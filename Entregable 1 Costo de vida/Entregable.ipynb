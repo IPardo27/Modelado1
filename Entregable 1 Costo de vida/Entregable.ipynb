{
 "cells": [
  {
   "cell_type": "markdown",
   "metadata": {},
   "source": [
    "### Entregable 1\n",
    "Agregar columna 'Año' y concatenar los archivos"
   ]
  },
  {
   "cell_type": "code",
   "execution_count": 27,
   "metadata": {},
   "outputs": [
    {
     "name": "stdout",
     "output_type": "stream",
     "text": [
      "Archivo 2014.csv cargado con éxito y columna 'Año' añadida.\n",
      "Archivo 2015.csv cargado con éxito y columna 'Año' añadida.\n",
      "Archivo 2016.csv cargado con éxito y columna 'Año' añadida.\n",
      "Archivo 2017.csv cargado con éxito y columna 'Año' añadida.\n",
      "Archivo 2018.csv cargado con éxito y columna 'Año' añadida.\n",
      "Archivo 2019.csv cargado con éxito y columna 'Año' añadida.\n",
      "Archivo 2020.csv cargado con éxito y columna 'Año' añadida.\n",
      "Archivo 2021.csv cargado con éxito y columna 'Año' añadida.\n",
      "Archivo 2022.csv cargado con éxito y columna 'Año' añadida.\n",
      "Archivo 2023.csv cargado con éxito y columna 'Año' añadida.\n",
      "Archivo 2024.csv cargado con éxito y columna 'Año' añadida.\n",
      "Todos los archivos han sido cargados, columna 'Año' agregada y los DataFrames concatenados.\n"
     ]
    }
   ],
   "source": [
    "\n",
    "import os\n",
    "import pandas as pd\n",
    "\n",
    "base_path = 'C:/Users/abcpa/OneDrive/Escritorio/Maestria Ingenieria Y Analitica de datos/Modelado y simulacion/Modelado1/Datos Entregable/'\n",
    "\n",
    "years = range(2014, 2025)  \n",
    "\n",
    "dfs = {}\n",
    "\n",
    "for year in years:\n",
    "    file_path = os.path.join(base_path, f'{year}.csv')\n",
    "    try:\n",
    "        \n",
    "        df = pd.read_csv(file_path, sep=',', encoding='utf-8')\n",
    "\n",
    "        df['Año'] = year\n",
    "        \n",
    "        df['Puesto'] = range(1, len(df) + 1)\n",
    "\n",
    "        dfs[year] = df\n",
    "\n",
    "        print(f\"Archivo {year}.csv cargado con éxito y columna 'Año' añadida.\")\n",
    "    except FileNotFoundError:\n",
    "        print(f\"Archivo {year}.csv no encontrado.\")\n",
    "    except Exception as e:\n",
    "        print(f\"Error al cargar {year}.csv: {e}\")\n",
    "\n",
    "df_concatenado = pd.concat(dfs.values(), ignore_index=True)\n",
    "\n",
    "\n",
    "df_concatenado.to_csv('archivo_concatenado.csv', index=False)\n",
    "\n",
    "print(\"Todos los archivos han sido cargados, columna 'Año' agregada y los DataFrames concatenados.\")\n"
   ]
  },
  {
   "cell_type": "code",
   "execution_count": 28,
   "metadata": {},
   "outputs": [
    {
     "data": {
      "text/html": [
       "<div>\n",
       "<style scoped>\n",
       "    .dataframe tbody tr th:only-of-type {\n",
       "        vertical-align: middle;\n",
       "    }\n",
       "\n",
       "    .dataframe tbody tr th {\n",
       "        vertical-align: top;\n",
       "    }\n",
       "\n",
       "    .dataframe thead th {\n",
       "        text-align: right;\n",
       "    }\n",
       "</style>\n",
       "<table border=\"1\" class=\"dataframe\">\n",
       "  <thead>\n",
       "    <tr style=\"text-align: right;\">\n",
       "      <th></th>\n",
       "      <th>Puesto</th>\n",
       "      <th>País</th>\n",
       "      <th>Índice de Costo de Vida</th>\n",
       "      <th>Índice de Alquiler</th>\n",
       "      <th>Índice de Costo de Vida más Alquiler</th>\n",
       "      <th>Índice de Comestibles</th>\n",
       "      <th>Índice de Precios en Restaurantes</th>\n",
       "      <th>Índice de Poder Adquisitivo Local</th>\n",
       "      <th>Año</th>\n",
       "    </tr>\n",
       "  </thead>\n",
       "  <tbody>\n",
       "    <tr>\n",
       "      <th>0</th>\n",
       "      <td>1</td>\n",
       "      <td>Islas Bermudas</td>\n",
       "      <td>13362</td>\n",
       "      <td>9136</td>\n",
       "      <td>11358</td>\n",
       "      <td>14355</td>\n",
       "      <td>12420</td>\n",
       "      <td>8425</td>\n",
       "      <td>2024</td>\n",
       "    </tr>\n",
       "    <tr>\n",
       "      <th>1</th>\n",
       "      <td>2</td>\n",
       "      <td>Suiza</td>\n",
       "      <td>11224</td>\n",
       "      <td>5278</td>\n",
       "      <td>8404</td>\n",
       "      <td>11673</td>\n",
       "      <td>10406</td>\n",
       "      <td>11891</td>\n",
       "      <td>2024</td>\n",
       "    </tr>\n",
       "  </tbody>\n",
       "</table>\n",
       "</div>"
      ],
      "text/plain": [
       "   Puesto            País  Índice de Costo de Vida  Índice de Alquiler  \\\n",
       "0       1  Islas Bermudas                    13362                9136   \n",
       "1       2           Suiza                    11224                5278   \n",
       "\n",
       "   Índice de Costo de Vida más Alquiler  Índice de Comestibles  \\\n",
       "0                                 11358                  14355   \n",
       "1                                  8404                  11673   \n",
       "\n",
       "   Índice de Precios en Restaurantes  Índice de Poder Adquisitivo Local   Año  \n",
       "0                              12420                               8425  2024  \n",
       "1                              10406                              11891  2024  "
      ]
     },
     "execution_count": 28,
     "metadata": {},
     "output_type": "execute_result"
    }
   ],
   "source": [
    "df.head(2)"
   ]
  }
 ],
 "metadata": {
  "kernelspec": {
   "display_name": "Python 3",
   "language": "python",
   "name": "python3"
  },
  "language_info": {
   "codemirror_mode": {
    "name": "ipython",
    "version": 3
   },
   "file_extension": ".py",
   "mimetype": "text/x-python",
   "name": "python",
   "nbconvert_exporter": "python",
   "pygments_lexer": "ipython3",
   "version": "3.12.2"
  }
 },
 "nbformat": 4,
 "nbformat_minor": 2
}
