{
 "cells": [
  {
   "cell_type": "markdown",
   "metadata": {},
   "source": [
    "# 1. Hola Mundo"
   ]
  },
  {
   "cell_type": "code",
   "execution_count": 3,
   "metadata": {},
   "outputs": [
    {
     "name": "stdout",
     "output_type": "stream",
     "text": [
      "¡Hola Mundo!\n",
      "¡Hola\n",
      "Mundo!\n"
     ]
    }
   ],
   "source": [
    "print('¡Hola Mundo!')\n",
    "print(\"¡Hola\\nMundo!\") # El \"\\n\" genera un salto de linea al momento de imprimir"
   ]
  },
  {
   "cell_type": "markdown",
   "metadata": {},
   "source": [
    "# 2. Operaciones aritméticas"
   ]
  },
  {
   "cell_type": "code",
   "execution_count": 4,
   "metadata": {},
   "outputs": [
    {
     "name": "stdout",
     "output_type": "stream",
     "text": [
      "3.5\n",
      "El año tiene 31536000 segundos\n"
     ]
    }
   ],
   "source": [
    "5*(2.5+3.1)/8\n",
    "a = 5*(2.5+3.1)/8 # Guardar en una variable \"a\"\n",
    "print(a) # Imprimir la variable\n",
    "2**3 # Potenciacion \n",
    "b = (23 + 42) / 3\n",
    "c = a ** 2 + b ** 2  \n",
    "s = 365 * 24 * 3600 \n",
    "print(\"El año tiene\", s, \"segundos\")"
   ]
  },
  {
   "cell_type": "markdown",
   "metadata": {},
   "source": [
    "# 3. Guardar texto en variables y unir texto"
   ]
  },
  {
   "cell_type": "code",
   "execution_count": 5,
   "metadata": {},
   "outputs": [
    {
     "name": "stdout",
     "output_type": "stream",
     "text": [
      "casa amarilla\n",
      "Mi casa amarilla\n"
     ]
    }
   ],
   "source": [
    "x = \"casa\"  # Guarda la palabra \"casa\" en la variable 'x'\n",
    "y = \"amarilla\" # Guarda la palabra \"amarilla\" en la variable 'y'\n",
    "z = x + \" \" + y  # Suma las variables y genera la frase \"casa amarilla\"\n",
    "print(z)\n",
    "print(\"Mi \" + z)  # Genera la frase \"Mi casa amarilla\""
   ]
  },
  {
   "cell_type": "markdown",
   "metadata": {},
   "source": [
    "# 4. Ingreso de valores por teclado"
   ]
  },
  {
   "cell_type": "code",
   "execution_count": 6,
   "metadata": {},
   "outputs": [
    {
     "name": "stdout",
     "output_type": "stream",
     "text": [
      "23\n",
      "<class 'str'>\n",
      "<class 'float'>\n"
     ]
    }
   ],
   "source": [
    "x = input(\"Ingrese un número: \")\n",
    "print(x)\n",
    "y = input(\"Ingrese un número: \") # Las cantidades leídas con input son guardadas como cadenas de caracteres.\n",
    "print(type(y))  \n",
    "\n",
    "z = float(input(\"Ingrese un número: \")) # La instrucción float hace que la información sea guardada como número.\n",
    "print(type(z))  "
   ]
  },
  {
   "cell_type": "markdown",
   "metadata": {},
   "source": [
    "# 5. Listas - (Vectores)"
   ]
  },
  {
   "cell_type": "code",
   "execution_count": 7,
   "metadata": {},
   "outputs": [
    {
     "name": "stdout",
     "output_type": "stream",
     "text": [
      "['a', 'b', 'c', 'd', 'e']\n",
      "['a', 'b', 'c', 'e']\n",
      "['a', 'b', 'c']\n",
      "['b', 'c']\n",
      "['b', 'c', 'h']\n"
     ]
    }
   ],
   "source": [
    "x = [\"a\", \"b\", \"c\", \"d\", \"e\"]  # Genera un vector con los elementos indicados\n",
    "print(x)\n",
    "x.pop(3)  # Elimina la tercera posición del vector\n",
    "print(x)\n",
    "x.pop(-1) # Elimina el último elemento del vector\n",
    "print(x)\n",
    "x.remove(\"a\")  # Elimina el elemento \"a\"\n",
    "print(x)\n",
    "x.append(\"h\")  # Añade \"h\" al final del vector\n",
    "print(x)"
   ]
  },
  {
   "cell_type": "markdown",
   "metadata": {},
   "source": [
    "# 6. Estructuras de control\n",
    "## 6.1. Ciclos for"
   ]
  },
  {
   "cell_type": "code",
   "execution_count": 8,
   "metadata": {},
   "outputs": [
    {
     "name": "stdout",
     "output_type": "stream",
     "text": [
      "0\n",
      "1\n",
      "2\n",
      "Este es el paso número 4\n",
      "Este es el paso número 5\n",
      "Este es el paso número 6\n",
      "Este es el paso número 7\n",
      "Quiero comer manzana\n",
      "Quiero comer mango\n",
      "Quiero comer piña\n",
      "t\n",
      "a\n",
      "m\n",
      "a\n",
      "r\n",
      "i\n",
      "n\n",
      "d\n",
      "o\n"
     ]
    }
   ],
   "source": [
    "for x in range(0, 3):  # range(0, 3) es un rango de valores de 0 a 2 (3 valores)\n",
    "    print(x)  # La sintaxis de Python exige un sangrado (\"indentación\") para el segundo renglón del ciclo for\n",
    "\n",
    "for x in range(4, 8):\n",
    "    print(\"Este es el paso número\", x)\n",
    "\n",
    "frutas = [\"manzana\", \"mango\", \"piña\"]\n",
    "for x in frutas:\n",
    "    print(\"Quiero comer\", x)\n",
    "\n",
    "for x in \"tamarindo\":\n",
    "    print(x)"
   ]
  },
  {
   "cell_type": "markdown",
   "metadata": {},
   "source": [
    "## 6.2. Condicional if"
   ]
  },
  {
   "cell_type": "code",
   "execution_count": 9,
   "metadata": {},
   "outputs": [
    {
     "name": "stdout",
     "output_type": "stream",
     "text": [
      "b es mayor que a\n",
      "a es igual que b\n",
      "a y b son diferentes\n",
      "a y b son iguales\n",
      "a es mayor que b\n"
     ]
    }
   ],
   "source": [
    "a = 33\n",
    "b = 200\n",
    "if b > a:\n",
    "    print(\"b es mayor que a\")  # La sintaxis de Python exige un sangrado (\"indentación\") para el renglón siguiente al condicional if\n",
    "\n",
    "a = \"mama\"\n",
    "b = \"mama\"\n",
    "if a == b:\n",
    "    print(\"a es igual que b\")  # La comparación de variables se puede hacer tanto para valores numéricos como para texto\n",
    "\n",
    "a = \"papá\"\n",
    "b = \"papa\"\n",
    "if a != b:\n",
    "    print(\"a y b son diferentes\")  # El código registra la diferencia de la tilde entre \"papa\" y \"papá\"\n",
    "\n",
    "a = 33\n",
    "b = 33\n",
    "if b > a:\n",
    "    print(\"b es mayor que a\")\n",
    "elif a == b:\n",
    "    print(\"a y b son iguales\")  # La sintaxis de Python exige un sangrado (\"indentación\") para el renglón siguiente al condicional elif\n",
    "\n",
    "a = 200\n",
    "b = 33\n",
    "if b > a:\n",
    "    print(\"b es mayor que a\")\n",
    "elif a == b:\n",
    "    print(\"a y b son iguales\")\n",
    "else:\n",
    "    print(\"a es mayor que b\")  # La sintaxis de Python exige un sangrado (\"indentación\") para el renglón siguiente al condicional else\n"
   ]
  },
  {
   "cell_type": "markdown",
   "metadata": {},
   "source": [
    "## 6.3. Condicional while"
   ]
  },
  {
   "cell_type": "code",
   "execution_count": 10,
   "metadata": {},
   "outputs": [
    {
     "name": "stdout",
     "output_type": "stream",
     "text": [
      "1\n",
      "2\n",
      "3\n",
      "4\n",
      "5\n"
     ]
    }
   ],
   "source": [
    "i = 1\n",
    "while i < 6:\n",
    "    print(i)\n",
    "    i += 1  # La sintaxis de Python exige un sangrado (\"indentación\") para el renglón siguiente al condicional while\n"
   ]
  },
  {
   "cell_type": "markdown",
   "metadata": {},
   "source": [
    "# 7. Combinación de estructuras de control"
   ]
  },
  {
   "cell_type": "code",
   "execution_count": 11,
   "metadata": {},
   "outputs": [
    {
     "name": "stdout",
     "output_type": "stream",
     "text": [
      "1\n",
      "2\n",
      "3\n",
      "2\n",
      "4\n",
      "5\n",
      "6\n",
      "1\n",
      "2\n",
      "3\n",
      "4\n",
      "5\n",
      "i ya no es menor que 6\n",
      "5\n",
      "8\n",
      "11\n",
      "14\n",
      "17\n",
      "20\n",
      "23\n",
      "26\n",
      "29\n",
      "0\n",
      "1\n",
      "2\n",
      "3\n",
      "4\n",
      "5\n",
      "¡Terminó!\n",
      "manzana roja\n",
      "manzana grande\n",
      "manzana rica\n",
      "uva roja\n",
      "uva grande\n",
      "uva rica\n",
      "fresa roja\n",
      "fresa grande\n",
      "fresa rica\n",
      "33 es mayor que 33\n",
      "5\n",
      "6\n",
      "7\n",
      "8\n",
      "9\n",
      "0\n",
      "1\n",
      "2\n",
      "3\n",
      "11\n",
      "12\n",
      "13\n",
      "14\n",
      "15\n",
      "16\n",
      "17\n",
      "18\n",
      "19\n"
     ]
    }
   ],
   "source": [
    "i = 1\n",
    "while i < 6:\n",
    "    print(i)\n",
    "    if i == 3:\n",
    "        break  # break corta el proceso cuando se satisface el condicional del if\n",
    "    i += 1\n",
    "\n",
    "i = 1\n",
    "while i < 6:\n",
    "    i += 1\n",
    "    if i == 3:\n",
    "        continue  # continue hace que el ciclo avance a la siguiente iteración\n",
    "    print(i)\n",
    "\n",
    "i = 1\n",
    "while i < 6:\n",
    "    print(i)\n",
    "    i += 1\n",
    "else:\n",
    "    print(\"i ya no es menor que 6\")\n",
    "\n",
    "for x in range(5, 30, 3):  # El rango incluye valores de 5 a 29 cada 3 números\n",
    "    print(x)\n",
    "\n",
    "for x in range(6):\n",
    "    print(x)\n",
    "else:\n",
    "    print(\"¡Terminó!\")\n",
    "\n",
    "caracteristicas = [\"roja\", \"grande\", \"rica\"]\n",
    "frutas = [\"manzana\", \"uva\", \"fresa\"]\n",
    "\n",
    "for x in frutas:\n",
    "    for y in caracteristicas:\n",
    "        print(x, y)\n",
    "\n",
    "x = int(input(\"Ingrese un número \\n\"))\n",
    "y = int(input(\"Ingrese un número \\n\"))\n",
    "\n",
    "if x > y:\n",
    "    print(x, \"es mayor que\", y)\n",
    "else:\n",
    "    print(y, \"es mayor que\", x)\n",
    "\n",
    "for x in range(20):\n",
    "    if x > 4 and x < 10:\n",
    "        print(x)\n",
    "\n",
    "for x in range(20):\n",
    "    if x < 4 or x > 10:\n",
    "        print(x)"
   ]
  },
  {
   "cell_type": "markdown",
   "metadata": {},
   "source": [
    "# 8. Primeras gráficas"
   ]
  },
  {
   "cell_type": "code",
   "execution_count": 14,
   "metadata": {},
   "outputs": [
    {
     "ename": "ModuleNotFoundError",
     "evalue": "No module named 'matplotlib'",
     "output_type": "error",
     "traceback": [
      "\u001b[1;31m---------------------------------------------------------------------------\u001b[0m",
      "\u001b[1;31mModuleNotFoundError\u001b[0m                       Traceback (most recent call last)",
      "Cell \u001b[1;32mIn[14], line 1\u001b[0m\n\u001b[1;32m----> 1\u001b[0m \u001b[38;5;28;01mimport\u001b[39;00m \u001b[38;5;21;01mmatplotlib\u001b[39;00m\u001b[38;5;21;01m.\u001b[39;00m\u001b[38;5;21;01mpyplot\u001b[39;00m \u001b[38;5;28;01mas\u001b[39;00m \u001b[38;5;21;01mplt\u001b[39;00m\n\u001b[0;32m      3\u001b[0m plt\u001b[38;5;241m.\u001b[39mplot([\u001b[38;5;241m1\u001b[39m, \u001b[38;5;241m2\u001b[39m, \u001b[38;5;241m3\u001b[39m, \u001b[38;5;241m4\u001b[39m, \u001b[38;5;241m5\u001b[39m], [\u001b[38;5;241m3\u001b[39m, \u001b[38;5;241m5\u001b[39m, \u001b[38;5;241m8\u001b[39m, \u001b[38;5;241m9\u001b[39m, \u001b[38;5;241m2\u001b[39m])\n\u001b[0;32m      4\u001b[0m plt\u001b[38;5;241m.\u001b[39mshow()\n",
      "\u001b[1;31mModuleNotFoundError\u001b[0m: No module named 'matplotlib'"
     ]
    }
   ],
   "source": [
    "import matplotlib.pyplot as plt\n",
    "\n",
    "plt.plot([1, 2, 3, 4, 5], [3, 5, 8, 9, 2])\n",
    "plt.show()\n",
    "\n",
    "plt.plot([1, 2, 3, 4, 5], [3, 5, 8, 9, 2], 'bo')  # Cambie el color de los puntos reemplazando 'bo' por otras opciones\n",
    "plt.show()\n",
    "\n",
    "x = [1, 2, 3, 4, 5, 6, 7, 8, 9, 10]\n",
    "y = [1, 4, 9, 16, 25, 24, 23, 22, 21, 20]\n",
    "\n",
    "plt.plot(x, y)  # Genera una gráfica con las parejas ordenadas (x, y)\n",
    "plt.show()\n",
    "\n",
    "plt.plot(x, y, '-')  # Se unen los puntos con una línea discontinua\n",
    "plt.show()\n",
    "\n",
    "plt.plot(x, y, linewidth=10.0)  # Aumenta el grosor de la línea en la gráfica\n",
    "plt.show()\n",
    "\n",
    "plt.plot(x, y)\n",
    "plt.ylabel('Eje vertical')\n",
    "plt.xlabel('Eje horizontal')\n",
    "plt.title(\"Título\")\n",
    "plt.scatter(x, y)  # Grafica la dispersión de puntos sin unirlos\n",
    "plt.grid(True)  # Genera una cuadrícula en el espacio de la gráfica\n",
    "plt.show()\n",
    "\n",
    "# Gráfica de barras\n",
    "grupos = ['Grupo a', 'Grupo b', 'Grupo c', 'Grupo d']\n",
    "valores = [15, 40, 100, 53]\n",
    "plt.bar(grupos, valores)\n",
    "plt.show()\n",
    "\n",
    "# Varias gráficas en una figura\n",
    "plt.figure(figsize=(15, 3))  # Ancho y alto en pulgadas\n",
    "\n",
    "plt.subplot(131)\n",
    "plt.bar(grupos, valores)\n",
    "\n",
    "plt.subplot(132)\n",
    "plt.scatter(grupos, valores)\n",
    "\n",
    "plt.subplot(133)\n",
    "plt.plot(grupos, valores)\n",
    "\n",
    "plt.suptitle(\"Varias gráficas\")\n",
    "plt.show()"
   ]
  },
  {
   "cell_type": "markdown",
   "metadata": {},
   "source": [
    "## NUMPY"
   ]
  },
  {
   "cell_type": "code",
   "execution_count": 15,
   "metadata": {},
   "outputs": [
    {
     "ename": "ModuleNotFoundError",
     "evalue": "No module named 'numpy'",
     "output_type": "error",
     "traceback": [
      "\u001b[1;31m---------------------------------------------------------------------------\u001b[0m",
      "\u001b[1;31mModuleNotFoundError\u001b[0m                       Traceback (most recent call last)",
      "Cell \u001b[1;32mIn[15], line 1\u001b[0m\n\u001b[1;32m----> 1\u001b[0m \u001b[38;5;28;01mimport\u001b[39;00m \u001b[38;5;21;01mnumpy\u001b[39;00m \u001b[38;5;28;01mas\u001b[39;00m \u001b[38;5;21;01mnp\u001b[39;00m\n\u001b[0;32m      3\u001b[0m t \u001b[38;5;241m=\u001b[39m np\u001b[38;5;241m.\u001b[39marange(\u001b[38;5;241m0\u001b[39m, \u001b[38;5;241m5\u001b[39m, \u001b[38;5;241m0.1\u001b[39m)\n\u001b[0;32m      4\u001b[0m plt\u001b[38;5;241m.\u001b[39mplot(t, t \u001b[38;5;241m*\u001b[39m\u001b[38;5;241m*\u001b[39m \u001b[38;5;241m2\u001b[39m)\n",
      "\u001b[1;31mModuleNotFoundError\u001b[0m: No module named 'numpy'"
     ]
    }
   ],
   "source": [
    "import numpy as np\n",
    "\n",
    "t = np.arange(0, 5, 0.1)\n",
    "plt.plot(t, t ** 2)\n",
    "plt.show()\n",
    "\n",
    "print(t)\n",
    "\n",
    "# Graficando diferentes funciones en una sola gráfica\n",
    "t1 = np.arange(0, 2 * np.pi, 0.1)\n",
    "t2 = np.arange(0, 2 * np.pi, 0.2)\n",
    "\n",
    "plt.plot(t1, np.sin(t1), t1, np.cos(t1))\n",
    "plt.plot(t1, np.cos(2 * np.pi * t1) * np.exp(-t1), 'r', t2, np.cos(2 * np.pi * t2) * np.exp(-t2), 'bo')\n",
    "plt.show()\n",
    "\n",
    "# Generando números aleatorios y graficándolos\n",
    "x = np.random.rand(50)  # 50 números aleatorios con distribución uniforme entre 0 y 1\n",
    "print(x)\n",
    "\n",
    "x = np.random.rand(2000)\n",
    "print(x)\n",
    "\n",
    "x = np.random.randn(2000)  # Distribución normal\n",
    "print(x)\n",
    "\n",
    "x = np.random.randint(10, 20, 50)  # 50 números aleatorios enteros entre 10 y 20\n",
    "print(x)\n",
    "plt.plot(x)\n",
    "plt.show()"
   ]
  }
 ],
 "metadata": {
  "kernelspec": {
   "display_name": "Python 3",
   "language": "python",
   "name": "python3"
  },
  "language_info": {
   "codemirror_mode": {
    "name": "ipython",
    "version": 3
   },
   "file_extension": ".py",
   "mimetype": "text/x-python",
   "name": "python",
   "nbconvert_exporter": "python",
   "pygments_lexer": "ipython3",
   "version": "3.12.2"
  }
 },
 "nbformat": 4,
 "nbformat_minor": 2
}
